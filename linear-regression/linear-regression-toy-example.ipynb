{
 "cells": [
  {
   "cell_type": "markdown",
   "metadata": {},
   "source": [
    "### Toy example of linear regression using tensorflow\n",
    "I follow the instruction of this video [Tensorflow Basics Tutorial Series - (Pt.1) Linear Regression](https://www.youtube.com/watch?v=Xiab2JhwzYY).\n",
    "\n",
    "The tutorial is easy understanding with short code example"
   ]
  },
  {
   "cell_type": "code",
   "execution_count": 1,
   "metadata": {},
   "outputs": [
    {
     "name": "stderr",
     "output_type": "stream",
     "text": [
      "/home/alex/.local/lib/python3.5/site-packages/h5py/__init__.py:36: FutureWarning: Conversion of the second argument of issubdtype from `float` to `np.floating` is deprecated. In future, it will be treated as `np.float64 == np.dtype(float).type`.\n",
      "  from ._conv import register_converters as _register_converters\n"
     ]
    }
   ],
   "source": [
    "# data operation\n",
    "import numpy as np\n",
    "# ml package\n",
    "import tensorflow as tf\n",
    "# visualization\n",
    "import matplotlib.pyplot as plt"
   ]
  },
  {
   "cell_type": "code",
   "execution_count": 2,
   "metadata": {},
   "outputs": [
    {
     "data": {
      "text/plain": [
       "'/usr/bin/python3'"
      ]
     },
     "execution_count": 2,
     "metadata": {},
     "output_type": "execute_result"
    }
   ],
   "source": [
    "# check which jupyter it is pip or anaconda?\n",
    "import sys\n",
    "sys.executable"
   ]
  },
  {
   "cell_type": "code",
   "execution_count": 3,
   "metadata": {},
   "outputs": [],
   "source": [
    "learning_rate = 0.01\n",
    "epochs = 400"
   ]
  },
  {
   "cell_type": "code",
   "execution_count": 4,
   "metadata": {},
   "outputs": [],
   "source": [
    "n_samples = 200\n",
    "train_x = np.linspace(0, 2 * np.pi, n_samples) #np.linspace(0, 20, n_samples)\n",
    "train_y = np.sin(train_x) + 3 * np.random.randn() "
   ]
  },
  {
   "cell_type": "code",
   "execution_count": 5,
   "metadata": {
    "scrolled": true
   },
   "outputs": [
    {
     "data": {
      "image/png": "[encoded data removed]",
      "text/plain": [
       "<Figure size 432x288 with 1 Axes>"
      ]
     },
     "metadata": {},
     "output_type": "display_data"
    }
   ],
   "source": [
    "%matplotlib inline\n",
    "plt.plot(train_x, train_y, 'o')\n",
    "plt.show()"
   ]
  },
  {
   "cell_type": "markdown",
   "metadata": {},
   "source": [
    "polynomial function y = $a \\times x^{3} + b \\times x{2} + c \\times x + d $"
   ]
  },
  {
   "cell_type": "code",
   "execution_count": 36,
   "metadata": {},
   "outputs": [],
   "source": [
    "X = tf.placeholder(tf.float32) # vector length= 3\n",
    "Y = tf.placeholder(tf.float32)\n",
    "\n",
    "A = tf.Variable(np.random.randn(), name='weights_1')\n",
    "B = tf.Variable(np.random.randn(), name='weights_2')\n",
    "C = tf.Variable(np.random.randn(), name='weights_3')\n",
    "D = tf.Variable(np.random.randn(), name='bias')"
   ]
  },
  {
   "cell_type": "code",
   "execution_count": 37,
   "metadata": {},
   "outputs": [],
   "source": [
    "pred = A * X**3 + B * X**2 + C * X + D\n",
    "# pred = tf.add( tf.multiply(a, tf.pow(X, 3)), \\\n",
    "#               tf.square(X), \\\n",
    "#               tf.multiply(c, X),\\\n",
    "#               d)\n",
    "# pred = tf.add( tf.multiply(a, tf.pow(X, 3)), \\\n",
    "#               tf.square(X))\n",
    "\n",
    "cost = tf.reduce_sum((pred - Y) ** 2) / (2 * n_samples)\n",
    "\n",
    "optimizer = tf.train.GradientDescentOptimizer(learning_rate).minimize(cost)"
   ]
  },
  {
   "cell_type": "code",
   "execution_count": 38,
   "metadata": {},
   "outputs": [],
   "source": [
    "init = tf.global_variables_initializer()"
   ]
  },
  {
   "cell_type": "markdown",
   "metadata": {},
   "source": [
    "### Error message\n",
    "* [csdn - TypeError: Can not convert a float32 into a Tensor or Operation.](https://blog.csdn.net/FontThrone/article/details/77017002)"
   ]
  },
  {
   "cell_type": "code",
   "execution_count": 47,
   "metadata": {},
   "outputs": [
    {
     "name": "stdout",
     "output_type": "stream",
     "text": [
      "epoch: epoch= 0 loss=19.05 a=0.29 b=-1.85 c=-0.39 d=0.66\n",
      "epoch: epoch=10 loss=11.71 a=0.25 b=-1.59 c=-0.22 d=0.73\n",
      "epoch: epoch=20 loss=7.38 a=0.21 b=-1.38 c=-0.09 d=0.77\n",
      "epoch: epoch=30 loss=4.82 a=0.19 b=-1.23 c=-0.00 d=0.80\n",
      "epoch: epoch=40 loss=3.28 a=0.16 b=-1.11 c=0.06 d=0.81\n",
      "epoch: epoch=50 loss=2.32 a=0.15 b=-1.02 c=0.11 d=0.81\n",
      "epoch: epoch=60 loss=1.73 a=0.14 b=-0.95 c=0.15 d=0.80\n",
      "epoch: epoch=70 loss=1.35 a=0.13 b=-0.89 c=0.17 d=0.78\n",
      "epoch: epoch=80 loss=1.10 a=0.12 b=-0.84 c=0.19 d=0.76\n",
      "epoch: epoch=90 loss=0.92 a=0.11 b=-0.81 c=0.20 d=0.74\n",
      "epoch: epoch=100 loss=0.80 a=0.11 b=-0.78 c=0.20 d=0.72\n",
      "epoch: epoch=110 loss=0.71 a=0.10 b=-0.75 c=0.21 d=0.69\n",
      "epoch: epoch=120 loss=0.64 a=0.10 b=-0.73 c=0.21 d=0.67\n",
      "epoch: epoch=130 loss=0.59 a=0.10 b=-0.71 c=0.21 d=0.64\n",
      "epoch: epoch=140 loss=0.54 a=0.10 b=-0.69 c=0.21 d=0.61\n",
      "epoch: epoch=150 loss=0.50 a=0.09 b=-0.67 c=0.21 d=0.58\n",
      "epoch: epoch=160 loss=0.47 a=0.09 b=-0.66 c=0.20 d=0.56\n",
      "epoch: epoch=170 loss=0.45 a=0.09 b=-0.65 c=0.20 d=0.53\n",
      "epoch: epoch=180 loss=0.42 a=0.09 b=-0.63 c=0.20 d=0.50\n",
      "epoch: epoch=190 loss=0.40 a=0.09 b=-0.62 c=0.19 d=0.48\n"
     ]
    },
    {
     "data": {
      "image/png": "[encoded data removed]",
      "text/plain": [
       "<Figure size 432x288 with 1 Axes>"
      ]
     },
     "metadata": {},
     "output_type": "display_data"
    }
   ],
   "source": [
    "with tf.Session() as sess:\n",
    "    sess.run(init)\n",
    "    \n",
    "    for epoch in range(epochs):\n",
    "        for x, y in zip(train_x, train_y):\n",
    "            sess.run(optimizer, feed_dict={X: x, Y: y})\n",
    "            \n",
    "        if not epoch % 10:\n",
    "            loss = sess.run(cost, feed_dict={X: train_x, Y: train_y})\n",
    "            \n",
    "            a_epoch = sess.run(A)\n",
    "            b_epoch = sess.run(B)\n",
    "            c_epoch = sess.run(C)\n",
    "            d_epoch = sess.run(D)\n",
    "            \n",
    "            print('epoch: epoch={:2d} loss={:.2f} a={:.2f} b={:.2f} c={:.2f} d={:.2f}'.format(epoch, loss, a_epoch, b_epoch, c_epoch, d_epoch))\n",
    "            \n",
    "    a_epoch = sess.run(A)\n",
    "    b_epoch = sess.run(B)\n",
    "    c_epoch = sess.run(C)\n",
    "    d_epoch = sess.run(D)\n",
    "    \n",
    "    plt.plot(train_x, train_y, 'o')\n",
    "    plt.plot(train_x, a_epoch * train_x**3 + b_epoch * train_x**2 + c_epoch * train_x + d_epoch)\n",
    "    plt.show()"
   ]
  }
 ],
 "metadata": {
  "kernelspec": {
   "display_name": "Python 3",
   "language": "python",
   "name": "python3"
  },
  "language_info": {
   "codemirror_mode": {
    "name": "ipython",
    "version": 3
   },
   "file_extension": ".py",
   "mimetype": "text/x-python",
   "name": "python",
   "nbconvert_exporter": "python",
   "pygments_lexer": "ipython3",
   "version": "3.5.2"
  }
 },
 "nbformat": 4,
 "nbformat_minor": 2
}
